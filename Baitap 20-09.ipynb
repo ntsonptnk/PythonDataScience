{
 "cells": [
  {
   "cell_type": "markdown",
   "metadata": {},
   "source": [
    "# Bài tập 20/09"
   ]
  },
  {
   "cell_type": "markdown",
   "metadata": {},
   "source": [
    "1. Tạo mảng 1 chiều a gồm 20 số nguyên nhận các giá trị 101, 102, ..., 120. In a\n",
    "2. Tạo mảng 1 chiều b gồm 50 số nguyên nhận các giá trị ngẫu nhiên trong đoạn [-10000, 10000]\n",
    "3. Tìm vị trí của phần tử nhỏ nhất trên b.\n",
    "4. Tạo mảng c chứa các số dương của b\n",
    "4. Tạo mảng d chứa các số đối xứng của b.\n",
    "5. Tìm median của dãy b\n",
    "6. Tạo bảng 2 chiều T kích thước 3x4 gồm các số ngẫu nhiên trong đoạn [-100, 100]. In T và các tham số cơ bản của T\n",
    "7. Tìm vị trí của phần tử nhỏ nhất trên mỗi dòng của T.\n",
    "8. Tìm vị trí của phần tử lớn nhất trên mỗi cột của T. \n",
    "7. Tính tổng mỗi dòng của T.\n",
    "8. Tính trung bình cộng của mỗi dòng của T\n",
    "9. Tìm vị trí của phần tử lớn nhất trong T\n",
    "10. Tìm vị trí của số chẵn bé nhất trong T"
   ]
  },
  {
   "cell_type": "code",
   "execution_count": null,
   "metadata": {},
   "outputs": [],
   "source": []
  }
 ],
 "metadata": {
  "kernelspec": {
   "display_name": "Python 3",
   "language": "python",
   "name": "python3"
  },
  "language_info": {
   "codemirror_mode": {
    "name": "ipython",
    "version": 3
   },
   "file_extension": ".py",
   "mimetype": "text/x-python",
   "name": "python",
   "nbconvert_exporter": "python",
   "pygments_lexer": "ipython3",
   "version": "3.6.6"
  }
 },
 "nbformat": 4,
 "nbformat_minor": 2
}

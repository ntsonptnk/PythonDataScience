{
 "cells": [
  {
   "cell_type": "markdown",
   "metadata": {},
   "source": [
    "## Lập trình với thư viện numpy"
   ]
  },
  {
   "cell_type": "markdown",
   "metadata": {},
   "source": [
    "### Khái niệm cần lưu ý:\n",
    "1. scalar: giá trị\n",
    "2. array: dãy giá trị\n",
    "3. matrix: ma trận \n",
    "4. ndarray: mảng N chiều\n",
    "5. index: chỉ số - từ trái qua phải 0, 1, 2, ...; từ phải qua trái -1, -2, ...\n",
    "6. ...\n",
    "\n",
    "<i>Tham khảo: https://docs.scipy.org/doc/numpy/reference/index.html</i>"
   ]
  },
  {
   "cell_type": "markdown",
   "metadata": {},
   "source": [
    "### Các thao tác đơn giản với thư viện numpy"
   ]
  },
  {
   "cell_type": "markdown",
   "metadata": {},
   "source": [
    "#### I. Sử dụng thư viện numpy với tên viết tắt np"
   ]
  },
  {
   "cell_type": "code",
   "execution_count": null,
   "metadata": {},
   "outputs": [],
   "source": [
    "#chỉ thị import LIB as Alias: thư viện LIB sẽ được dùng với tên Alias\n",
    "import numpy as np"
   ]
  },
  {
   "cell_type": "markdown",
   "metadata": {},
   "source": [
    "#### II. Khởi tạo dãy:\n",
    "<ol type=\"1\">\n",
    "    <li><b><i>zeros</i></b>: dãy gồm toàn số 0</li>\n",
    "<li><b><i>ones</i></b>: dãy gồm toàn số 1</li>\n",
    "<li><b><i>full</i></b>: tạo dãy với 1 giá trị chỉ định trước</li>\n",
    "<li><b><i>arange</i></b>: tạo dãy với dãy số được chỉ định trước</li>\n",
    "</ol>\n",
    "\n",
    "<i>Tham khảo: https://docs.scipy.org/doc/numpy/reference/routines.array-creation.html</i>\n"
   ]
  },
  {
   "cell_type": "code",
   "execution_count": 2,
   "metadata": {},
   "outputs": [
    {
     "name": "stdout",
     "output_type": "stream",
     "text": [
      "a1: [0 0 0 0 0 0 0 0 0 0]\n"
     ]
    }
   ],
   "source": [
    "#Ví dụ\n",
    "import numpy as np          #sử dụng thư viện numpy với tên np \n",
    "#Tạo dãy a1 gồm 10 số 0\n",
    "a1 = np.zeros(10, dtype=int)\n",
    "print(\"a1:\", a1)\n"
   ]
  },
  {
   "cell_type": "markdown",
   "metadata": {},
   "source": [
    "#### Bài tập ngắn"
   ]
  },
  {
   "cell_type": "markdown",
   "metadata": {},
   "source": [
    "1. Hãy điền code vào ??????????  để tạo dãy a2 gồm các số lẻ từ 1 đến 13:"
   ]
  },
  {
   "cell_type": "code",
   "execution_count": null,
   "metadata": {},
   "outputs": [],
   "source": [
    "#create a2\n",
    "a2 = ??????????\n",
    "print(\"a2:\", a2)\n",
    "\n",
    "#press Shift-Enter to excute"
   ]
  },
  {
   "cell_type": "markdown",
   "metadata": {},
   "source": [
    "Double-click <b>here</b> for the sample code.\n",
    "\n",
    "<!-- sample code:\n",
    "a2 = np.arange(1, 14, 2)\n",
    "-->"
   ]
  },
  {
   "cell_type": "markdown",
   "metadata": {},
   "source": [
    "2. Hãy điền code vào ??????????  để tạo dãy a3 gồm 20 số -1:"
   ]
  },
  {
   "cell_type": "code",
   "execution_count": null,
   "metadata": {},
   "outputs": [],
   "source": [
    "#create a3\n",
    "a3 = ??????????\n",
    "print(\"a3:\", a3)\n",
    "\n",
    "#press Shift-Enter to excute"
   ]
  },
  {
   "cell_type": "markdown",
   "metadata": {},
   "source": [
    "Double-click <b>here</b> for the sample code.\n",
    "\n",
    "<!-- sample code:\n",
    "a3 = np.full(20, -1)\n",
    "-->"
   ]
  },
  {
   "cell_type": "markdown",
   "metadata": {},
   "source": [
    "3. Hãy điền code vào ??????????  để tạo dãy a4 gồm các số 12, 9, 6, 3, 0:"
   ]
  },
  {
   "cell_type": "code",
   "execution_count": null,
   "metadata": {},
   "outputs": [],
   "source": [
    "#create a4\n",
    "a4 = ??????????\n",
    "print(\"a4:\", a4)\n",
    "\n",
    "#press Shift-Enter to excute"
   ]
  },
  {
   "cell_type": "markdown",
   "metadata": {},
   "source": [
    "Double-click <b>here</b> for the sample code.\n",
    "\n",
    "<!-- sample code:\n",
    "a4 = np.arange(12, -1, -3)\n",
    "-->"
   ]
  },
  {
   "cell_type": "markdown",
   "metadata": {},
   "source": [
    "#### III. Một số thao tác thường gặp:\n",
    "\n",
    "editing...\n",
    "\n",
    "<ol type=\"1\">\n",
    "<li><b><i>Thay</i></b>: Thay đổi toàn bộ giá trị của dãy/ma trận</li>\n",
    "<li><b><i>ones</i></b>: Nối 2 dãy/ma trận</li>\n",
    "<li><b><i>full</i></b>: tách dãy/ma trận</li>\n",
    "<li><b><i>arange</i></b>: tạo bản sao dãy/ma trận</li>\n",
    "<li><b><i>arange</i></b>: Thêm các giá trị vào dãy/ma trận</li>\n",
    "<li><b><i>arange</i></b>: Xóa bớt các giá trị khỏi dãy/ma trận</li>\n",
    "<li><b><i>arange</i></b>: Thay đổi kích thước</li>\n",
    "<li><b><i>arange</i></b>: Loại bỏ số không ở đầu/cuối dãy</li>\n",
    "<li><b><i>T</i></b>: Ma trận chuyển vị</li>\n",
    "<li><b><i>Thay</i></b>: Tham chiếu một phần dãy/ma trận</li>\n",
    "</ol>\n",
    "\n",
    "<i>Tham khảo: https://docs.scipy.org/doc/numpy/reference/routines.array-manipulation.html</i>\n"
   ]
  },
  {
   "cell_type": "markdown",
   "metadata": {},
   "source": [
    "## Bài tập về nhà"
   ]
  },
  {
   "cell_type": "markdown",
   "metadata": {},
   "source": [
    "editing...\n",
    "\n",
    "1. Tạo bảng T kích thước 5x4 gồm các số được tạo ngẫu nhiên trong đoạn [-1000..1000]\n",
    "2. Tìm dòng có giá trị lớn nhất là nhỏ nhất trong tất cả các dòng\n",
    "3. Tìm cột có giá trị trung bình cao nhất\n",
    "2. Tạo bảng T1 là chuyển vị của T\n",
    "6. Thêm 1 cột chứa các giá trị ngẫu nhiên vào bên trái T\n",
    "7. Thêm 1 dòng chứa các giá trị ngẫu nhiên vào bên trên T\n",
    "8. Đặt tất cả giá trị trên cột 3 của T đều bằng 0\n",
    "9. Tăng tất cả giá trị trên dòng 2 của T lên 10 đơn vị"
   ]
  },
  {
   "cell_type": "code",
   "execution_count": null,
   "metadata": {},
   "outputs": [],
   "source": []
  }
 ],
 "metadata": {
  "kernelspec": {
   "display_name": "Python 3",
   "language": "python",
   "name": "python3"
  },
  "language_info": {
   "codemirror_mode": {
    "name": "ipython",
    "version": 3
   },
   "file_extension": ".py",
   "mimetype": "text/x-python",
   "name": "python",
   "nbconvert_exporter": "python",
   "pygments_lexer": "ipython3",
   "version": "3.6.6"
  }
 },
 "nbformat": 4,
 "nbformat_minor": 2
}

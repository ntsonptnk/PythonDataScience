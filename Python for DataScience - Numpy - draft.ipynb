{
 "cells": [
  {
   "cell_type": "markdown",
   "metadata": {},
   "source": [
    "## Bài tập với thư viện numpy"
   ]
  },
  {
   "cell_type": "markdown",
   "metadata": {},
   "source": [
    "1. Tạo dãy a chứa 12 số: 1, 2, 3, ..., 12 "
   ]
  },
  {
   "cell_type": "code",
   "execution_count": 21,
   "metadata": {},
   "outputs": [
    {
     "name": "stdout",
     "output_type": "stream",
     "text": [
      "[ 1  2  3  4  5  6  7  8  9 10 11 12]\n"
     ]
    }
   ],
   "source": [
    "import numpy as np          #sử dụng thư viện numpy với tên np \n",
    "a = np.arange(1, 13)\n",
    "print(a)"
   ]
  },
  {
   "cell_type": "markdown",
   "metadata": {},
   "source": [
    "2. Tạo ma trận table 3x4 được lấp đầy bằng các số của a theo trình tự từ trên xuống dưới, từ trái qua phải"
   ]
  },
  {
   "cell_type": "code",
   "execution_count": 22,
   "metadata": {},
   "outputs": [
    {
     "name": "stdout",
     "output_type": "stream",
     "text": [
      "[ 1  2  3  4  5  6  7  8  9 10 11 12] \n",
      "\n",
      " [[ 1  2  3  4]\n",
      " [ 5  6  7  8]\n",
      " [ 9 10 11 12]]\n"
     ]
    }
   ],
   "source": [
    "table = a.reshape((3, 4))\n",
    "print(a, '\\n\\n', table)"
   ]
  },
  {
   "cell_type": "markdown",
   "metadata": {},
   "source": [
    "3. Tạo mảng a2 với các số lấy từ những cột chẵn của table"
   ]
  },
  {
   "cell_type": "code",
   "execution_count": 16,
   "metadata": {},
   "outputs": [
    {
     "name": "stdout",
     "output_type": "stream",
     "text": [
      "[ 1  3  5  7  9 11]\n"
     ]
    }
   ],
   "source": [
    "a2 = table[:,::2].reshape(6)\n",
    "print(a2)"
   ]
  },
  {
   "cell_type": "markdown",
   "metadata": {},
   "source": [
    "    Cần lưu ý gì khi thực hiện:"
   ]
  },
  {
   "cell_type": "code",
   "execution_count": 18,
   "metadata": {},
   "outputs": [],
   "source": [
    "a2[4] = 1000"
   ]
  },
  {
   "cell_type": "markdown",
   "metadata": {},
   "source": [
    "    giá trị của table[0, 2] sẽ bị thay đổi"
   ]
  },
  {
   "cell_type": "code",
   "execution_count": 19,
   "metadata": {},
   "outputs": [
    {
     "name": "stdout",
     "output_type": "stream",
     "text": [
      "[[   1    2    3    4]\n",
      " [   5    6    7    8]\n",
      " [1000   10   11   12]]\n"
     ]
    }
   ],
   "source": [
    "print(table)"
   ]
  },
  {
   "cell_type": "markdown",
   "metadata": {},
   "source": [
    "    Muốn table không đổi khi thay đổi a2 thì phải làm gì ???"
   ]
  },
  {
   "cell_type": "markdown",
   "metadata": {},
   "source": [
    "4. Tạo table2 bằng cách \"nhân đôi\" table theo chiều dọc"
   ]
  },
  {
   "cell_type": "code",
   "execution_count": 23,
   "metadata": {},
   "outputs": [
    {
     "name": "stdout",
     "output_type": "stream",
     "text": [
      "[[ 1  2  3  4]\n",
      " [ 5  6  7  8]\n",
      " [ 9 10 11 12]\n",
      " [ 1  2  3  4]\n",
      " [ 5  6  7  8]\n",
      " [ 9 10 11 12]]\n"
     ]
    }
   ],
   "source": [
    "table2 = np.concatenate([table, table])\n",
    "print(table2)"
   ]
  },
  {
   "cell_type": "markdown",
   "metadata": {},
   "source": [
    "5. Tạo table3 bằng cách \"nhân đôi\" table theo chiều ngang"
   ]
  },
  {
   "cell_type": "code",
   "execution_count": 24,
   "metadata": {},
   "outputs": [
    {
     "name": "stdout",
     "output_type": "stream",
     "text": [
      "[[ 1  2  3  4  1  2  3  4]\n",
      " [ 5  6  7  8  5  6  7  8]\n",
      " [ 9 10 11 12  9 10 11 12]]\n"
     ]
    }
   ],
   "source": [
    "table3 = np.concatenate([table, table], axis=1)\n",
    "print(table3)"
   ]
  },
  {
   "cell_type": "markdown",
   "metadata": {},
   "source": [
    "6. Ghi bảng table ra tập tin văn bản table.txt"
   ]
  },
  {
   "cell_type": "code",
   "execution_count": 27,
   "metadata": {
    "collapsed": true
   },
   "outputs": [],
   "source": [
    "np.savetxt('table.txt', table, fmt='%4d')"
   ]
  },
  {
   "cell_type": "markdown",
   "metadata": {},
   "source": [
    "7. Đọc ma trận T từ tập tin văn bản table.txt"
   ]
  },
  {
   "cell_type": "code",
   "execution_count": 30,
   "metadata": {
    "collapsed": true
   },
   "outputs": [
    {
     "name": "stdout",
     "output_type": "stream",
     "text": [
      "[[ 1  2  3  4]\n",
      " [ 5  6  7  8]\n",
      " [ 9 10 11 12]]\n"
     ]
    }
   ],
   "source": [
    "T = np.loadtxt('table.txt', dtype='int')\n",
    "print(T)"
   ]
  },
  {
   "cell_type": "markdown",
   "metadata": {},
   "source": [
    "## Bài tập về nhà"
   ]
  },
  {
   "cell_type": "markdown",
   "metadata": {},
   "source": [
    "1. Tạo bảng T kích thước 5x4 gồm các số được tạo ngẫu nhiên trong đoạn [-1000..1000]\n",
    "2. Tìm dòng có giá trị lớn nhất là nhỏ nhất trong tất cả các dòng\n",
    "3. Tìm cột có giá trị trung bình cao nhất\n",
    "2. Tạo bảng T1 là chuyển vị của T\n",
    "6. Thêm 1 cột chứa các giá trị ngẫu nhiên vào bên trái T\n",
    "7. Thêm 1 dòng chứa các giá trị ngẫu nhiên vào bên trên T\n",
    "8. Đặt tất cả giá trị trên cột 3 của T đều bằng 0\n",
    "9. Tăng tất cả giá trị trên dòng 2 của T lên 10 đơn vị"
   ]
  },
  {
   "cell_type": "code",
   "execution_count": 25,
   "metadata": {},
   "outputs": [
    {
     "name": "stdout",
     "output_type": "stream",
     "text": [
      "[[-146  852 -214 -993]\n",
      " [ 874   25  674  280]\n",
      " [-965  509  226  945]\n",
      " [-697  185 -701 -306]\n",
      " [ 713 -903  293   79]]\n",
      "[852 874 945 185 713]\n",
      "3\n",
      "1\n"
     ]
    }
   ],
   "source": [
    "import numpy as np\n",
    "T = np.random.randint(-1000, 1000, size=(5, 4))\n",
    "print(T)\n",
    "m = np.max(T, axis=1)\n",
    "print(m)\n",
    "print(np.argmin(m))\n",
    "print(np.argmax(np.mean(T, axis=0)))\n"
   ]
  },
  {
   "cell_type": "code",
   "execution_count": 24,
   "metadata": {},
   "outputs": [
    {
     "data": {
      "image/png": "[encoded data removed]",
      "text/plain": [
       "<Figure size 432x288 with 1 Axes>"
      ]
     },
     "metadata": {},
     "output_type": "display_data"
    }
   ],
   "source": [
    "import numpy as np\n",
    "import matplotlib.pyplot as plt\n",
    " \n",
    "objects = ('Python', 'C++', 'Java', 'Perl', 'Scala', 'Lisp')\n",
    "y_pos = np.arange(len(objects))\n",
    "performance = [10,8,6,4,2,1]\n",
    " \n",
    "plt.bar(y_pos, performance, align='center', alpha=0.5)\n",
    "plt.xticks(y_pos, objects)\n",
    "plt.ylabel('Usage')\n",
    "plt.title('Programming language usage')\n",
    " \n",
    "plt.show()"
   ]
  },
  {
   "cell_type": "markdown",
   "metadata": {},
   "source": [
    "# Bài tập 20/09"
   ]
  },
  {
   "cell_type": "markdown",
   "metadata": {},
   "source": [
    "1. Tạo mảng 1 chiều a gồm 20 số nguyên nhận các giá trị 101, 102, ..., 120. In a\n",
    "2. Tạo mảng 1 chiều b gồm 50 số nguyên nhận các giá trị ngẫu nhiên trong đoạn [-10000, 10000]\n",
    "3. Tìm vị trí của phần tử nhỏ nhất trên b.\n",
    "4. Tạo mảng c gồm các số đối xứng của b.\n",
    "5. Tìm median của dãy b\n",
    "6. Tạo bảng 2 chiều T kích thước 3x4 gồm các số ngẫu nhiên trong đoạn [-100, 100]. In T và các tham số cơ bản của T\n",
    "7. Tìm vị trí của phần tử nhỏ nhất trên mỗi dòng của T.\n",
    "8. Tìm vị trí của phần tử lớn nhất trên mỗi cột của T. \n",
    "7. Tính tổng mỗi dòng của T.\n",
    "8. Tính trung bình cộng của mỗi dòng của T\n",
    "9. Tìm vị trí của phần tử lớn nhất trong T\n",
    "10. Tìm vị trí của số chẵn bé nhất trong T"
   ]
  },
  {
   "cell_type": "code",
   "execution_count": 9,
   "metadata": {},
   "outputs": [
    {
     "name": "stdout",
     "output_type": "stream",
     "text": [
      "7.0\n",
      "7.0\n"
     ]
    }
   ],
   "source": [
    "import numpy as np\n",
    "a = np.array([17, 6, 7])\n",
    "print(np.median(a))\n",
    "print(np.nanmedian(a))"
   ]
  },
  {
   "cell_type": "code",
   "execution_count": null,
   "metadata": {},
   "outputs": [],
   "source": []
  }
 ],
 "metadata": {
  "kernelspec": {
   "display_name": "Python 3",
   "language": "python",
   "name": "python3"
  },
  "language_info": {
   "codemirror_mode": {
    "name": "ipython",
    "version": 3
   },
   "file_extension": ".py",
   "mimetype": "text/x-python",
   "name": "python",
   "nbconvert_exporter": "python",
   "pygments_lexer": "ipython3",
   "version": "3.6.6"
  }
 },
 "nbformat": 4,
 "nbformat_minor": 2
}
